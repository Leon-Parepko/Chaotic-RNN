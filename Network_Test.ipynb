{
 "cells": [
  {
   "cell_type": "markdown",
   "source": [],
   "metadata": {
    "collapsed": false
   }
  },
  {
   "cell_type": "markdown",
   "source": [
    "# Import all libraries"
   ],
   "metadata": {
    "collapsed": false
   }
  },
  {
   "cell_type": "code",
   "execution_count": 1,
   "outputs": [],
   "source": [
    "import numpy as np\n",
    "import networkx as nx\n",
    "from Architecture.Layers import Random_RNN\n",
    "import matplotlib.pyplot as plt"
   ],
   "metadata": {
    "collapsed": false,
    "ExecuteTime": {
     "start_time": "2023-04-24T17:08:56.799897Z",
     "end_time": "2023-04-24T17:08:58.179064Z"
    }
   }
  },
  {
   "cell_type": "code",
   "execution_count": 2,
   "outputs": [
    {
     "ename": "TypeError",
     "evalue": "'tuple' object does not support item assignment",
     "output_type": "error",
     "traceback": [
      "\u001B[0;31m---------------------------------------------------------------------------\u001B[0m",
      "\u001B[0;31mTypeError\u001B[0m                                 Traceback (most recent call last)",
      "\u001B[0;32m/tmp/ipykernel_25323/776774673.py\u001B[0m in \u001B[0;36m<module>\u001B[0;34m\u001B[0m\n\u001B[1;32m      3\u001B[0m \u001B[0moutput_size\u001B[0m \u001B[0;34m=\u001B[0m \u001B[0;36m5\u001B[0m\u001B[0;34m\u001B[0m\u001B[0;34m\u001B[0m\u001B[0m\n\u001B[1;32m      4\u001B[0m \u001B[0;34m\u001B[0m\u001B[0m\n\u001B[0;32m----> 5\u001B[0;31m \u001B[0mmodel\u001B[0m \u001B[0;34m=\u001B[0m \u001B[0mRandom_RNN\u001B[0m\u001B[0;34m(\u001B[0m\u001B[0minput_size\u001B[0m\u001B[0;34m,\u001B[0m \u001B[0mhidden_size\u001B[0m\u001B[0;34m,\u001B[0m \u001B[0moutput_size\u001B[0m\u001B[0;34m,\u001B[0m \u001B[0mconnect_percentage\u001B[0m\u001B[0;34m=\u001B[0m\u001B[0;36m0.1\u001B[0m\u001B[0;34m)\u001B[0m\u001B[0;34m\u001B[0m\u001B[0;34m\u001B[0m\u001B[0m\n\u001B[0m\u001B[1;32m      6\u001B[0m \u001B[0;34m\u001B[0m\u001B[0m\n\u001B[1;32m      7\u001B[0m \u001B[0mprint\u001B[0m\u001B[0;34m(\u001B[0m\u001B[0;34mf'nodes: {len(model.graph.nodes)}\\n edges: {len(model.graph.edges)}'\u001B[0m\u001B[0;34m)\u001B[0m\u001B[0;34m\u001B[0m\u001B[0;34m\u001B[0m\u001B[0m\n",
      "\u001B[0;32m~/Projects/Programming/Random-Graph-RNN/Architecture/Layers.py\u001B[0m in \u001B[0;36m__init__\u001B[0;34m(self, in_features, out_features, neurons, connect_percentage, device, dtype)\u001B[0m\n\u001B[1;32m    209\u001B[0m         \u001B[0mself\u001B[0m\u001B[0;34m.\u001B[0m\u001B[0minput_weights\u001B[0m \u001B[0;34m=\u001B[0m \u001B[0mParameter\u001B[0m\u001B[0;34m(\u001B[0m\u001B[0mtorch\u001B[0m\u001B[0;34m.\u001B[0m\u001B[0mempty\u001B[0m\u001B[0;34m(\u001B[0m\u001B[0;34m(\u001B[0m\u001B[0mconn_num\u001B[0m\u001B[0;34m[\u001B[0m\u001B[0;34m\"input\"\u001B[0m\u001B[0;34m]\u001B[0m\u001B[0;34m,\u001B[0m \u001B[0;36m1\u001B[0m\u001B[0;34m)\u001B[0m\u001B[0;34m,\u001B[0m \u001B[0;34m**\u001B[0m\u001B[0mfactory_kwargs\u001B[0m\u001B[0;34m)\u001B[0m\u001B[0;34m)\u001B[0m\u001B[0;34m\u001B[0m\u001B[0;34m\u001B[0m\u001B[0m\n\u001B[1;32m    210\u001B[0m         \u001B[0mself\u001B[0m\u001B[0;34m.\u001B[0m\u001B[0massociative_weights\u001B[0m \u001B[0;34m=\u001B[0m \u001B[0mParameter\u001B[0m\u001B[0;34m(\u001B[0m\u001B[0mtorch\u001B[0m\u001B[0;34m.\u001B[0m\u001B[0mempty\u001B[0m\u001B[0;34m(\u001B[0m\u001B[0;34m(\u001B[0m\u001B[0mconn_num\u001B[0m\u001B[0;34m[\u001B[0m\u001B[0;34m\"associative\"\u001B[0m\u001B[0;34m]\u001B[0m\u001B[0;34m,\u001B[0m \u001B[0;36m1\u001B[0m\u001B[0;34m)\u001B[0m\u001B[0;34m,\u001B[0m \u001B[0;34m**\u001B[0m\u001B[0mfactory_kwargs\u001B[0m\u001B[0;34m)\u001B[0m\u001B[0;34m)\u001B[0m\u001B[0;34m\u001B[0m\u001B[0;34m\u001B[0m\u001B[0m\n\u001B[0;32m--> 211\u001B[0;31m         \u001B[0mself\u001B[0m\u001B[0;34m.\u001B[0m\u001B[0marrange_weights\u001B[0m\u001B[0;34m(\u001B[0m\u001B[0;34m)\u001B[0m\u001B[0;34m\u001B[0m\u001B[0;34m\u001B[0m\u001B[0m\n\u001B[0m\u001B[1;32m    212\u001B[0m \u001B[0;34m\u001B[0m\u001B[0m\n\u001B[1;32m    213\u001B[0m \u001B[0;34m\u001B[0m\u001B[0m\n",
      "\u001B[0;32m~/Projects/Programming/Random-Graph-RNN/Architecture/Layers.py\u001B[0m in \u001B[0;36marrange_weights\u001B[0;34m(self)\u001B[0m\n\u001B[1;32m     61\u001B[0m             \u001B[0;32mfor\u001B[0m \u001B[0medge\u001B[0m \u001B[0;32min\u001B[0m \u001B[0mself\u001B[0m\u001B[0;34m.\u001B[0m\u001B[0mgraph\u001B[0m\u001B[0;34m.\u001B[0m\u001B[0medges\u001B[0m\u001B[0;34m(\u001B[0m\u001B[0mnode\u001B[0m\u001B[0;34m[\u001B[0m\u001B[0;36m0\u001B[0m\u001B[0;34m]\u001B[0m\u001B[0;34m,\u001B[0m \u001B[0mdata\u001B[0m\u001B[0;34m=\u001B[0m\u001B[0;32mTrue\u001B[0m\u001B[0;34m)\u001B[0m\u001B[0;34m:\u001B[0m\u001B[0;34m\u001B[0m\u001B[0;34m\u001B[0m\u001B[0m\n\u001B[1;32m     62\u001B[0m                 \u001B[0;32mif\u001B[0m \u001B[0mnode\u001B[0m\u001B[0;34m[\u001B[0m\u001B[0;36m1\u001B[0m\u001B[0;34m]\u001B[0m\u001B[0;34m[\u001B[0m\u001B[0;34m\"type\"\u001B[0m\u001B[0;34m]\u001B[0m \u001B[0;34m==\u001B[0m \u001B[0;34m'input'\u001B[0m\u001B[0;34m:\u001B[0m\u001B[0;34m\u001B[0m\u001B[0;34m\u001B[0m\u001B[0m\n\u001B[0;32m---> 63\u001B[0;31m                     \u001B[0medge\u001B[0m\u001B[0;34m[\u001B[0m\u001B[0;34m\"weight\"\u001B[0m\u001B[0;34m]\u001B[0m \u001B[0;34m=\u001B[0m \u001B[0mself\u001B[0m\u001B[0;34m.\u001B[0m\u001B[0minput_weights\u001B[0m\u001B[0;34m[\u001B[0m\u001B[0minput_w_counter\u001B[0m\u001B[0;34m]\u001B[0m\u001B[0;34m\u001B[0m\u001B[0;34m\u001B[0m\u001B[0m\n\u001B[0m\u001B[1;32m     64\u001B[0m                     \u001B[0minput_w_counter\u001B[0m \u001B[0;34m+=\u001B[0m \u001B[0;36m1\u001B[0m\u001B[0;34m\u001B[0m\u001B[0;34m\u001B[0m\u001B[0m\n\u001B[1;32m     65\u001B[0m \u001B[0;34m\u001B[0m\u001B[0m\n",
      "\u001B[0;31mTypeError\u001B[0m: 'tuple' object does not support item assignment"
     ]
    }
   ],
   "source": [
    "input_size = 7\n",
    "hidden_size = 4\n",
    "output_size = 5\n",
    "\n",
    "model = Random_RNN(input_size, hidden_size, output_size, connect_percentage=0.1)\n",
    "\n",
    "print(f'nodes: {len(model.graph.nodes)}\\n edges: {len(model.graph.edges)}')"
   ],
   "metadata": {
    "collapsed": false,
    "ExecuteTime": {
     "start_time": "2023-04-24T17:05:29.507112Z",
     "end_time": "2023-04-24T17:05:29.507525Z"
    }
   }
  },
  {
   "cell_type": "code",
   "execution_count": null,
   "outputs": [],
   "source": [
    "# show all output edges for 7th node\n",
    "print(model.graph.edges(1, data=True))"
   ],
   "metadata": {
    "collapsed": false,
    "ExecuteTime": {
     "start_time": "2023-04-24T17:06:20.993397Z",
     "end_time": "2023-04-24T17:06:20.999780Z"
    }
   }
  },
  {
   "cell_type": "code",
   "execution_count": null,
   "outputs": [],
   "source": [
    "from torchsummary import summary\n",
    "\n",
    "# show model summary\n",
    "# summary(model, (input_size, 1))"
   ],
   "metadata": {
    "collapsed": false,
    "ExecuteTime": {
     "start_time": "2023-04-24T17:05:29.509953Z",
     "end_time": "2023-04-24T17:05:29.527292Z"
    }
   }
  },
  {
   "cell_type": "code",
   "execution_count": null,
   "outputs": [],
   "source": [
    "plt.figure(figsize=(16, 8))\n",
    "\n",
    "plt.subplot(121)\n",
    "pos = nx.multipartite_layout(model.graph, subset_key=\"layer\")\n",
    "nx.draw(model.graph, pos, node_color=[n[1][\"color\"] for n in model.graph.nodes(data=True)], with_labels=True)\n",
    "plt.title('Multipartite Layout')\n",
    "\n",
    "plt.subplot(122)\n",
    "nx.draw(model.graph, node_color=[n[1][\"color\"] for n in model.graph.nodes(data=True)], node_size=500, alpha=0.8)\n",
    "plt.title('Spring Layout')\n",
    "\n",
    "plt.show()"
   ],
   "metadata": {
    "collapsed": false,
    "ExecuteTime": {
     "start_time": "2023-04-24T17:05:29.532555Z",
     "end_time": "2023-04-24T17:05:29.890901Z"
    }
   }
  },
  {
   "cell_type": "code",
   "execution_count": null,
   "outputs": [],
   "source": [
    "device = \"cpu\""
   ],
   "metadata": {
    "collapsed": false,
    "ExecuteTime": {
     "start_time": "2023-04-24T17:05:29.891293Z",
     "end_time": "2023-04-24T17:05:29.895408Z"
    }
   }
  },
  {
   "cell_type": "code",
   "execution_count": null,
   "outputs": [],
   "source": [
    "# Create random individual 5*5\n",
    "test_individ = torch.rand(5,5)"
   ],
   "metadata": {
    "collapsed": false
   }
  },
  {
   "cell_type": "markdown",
   "source": [
    "#### Get and visualize random individual"
   ],
   "metadata": {
    "collapsed": false
   }
  },
  {
   "cell_type": "code",
   "execution_count": null,
   "outputs": [],
   "source": [
    "img = test_individ.view((5, 5))\n",
    "plt.imshow(img, cmap='Greys')\n",
    "pass"
   ],
   "metadata": {
    "collapsed": false
   }
  },
  {
   "cell_type": "markdown",
   "source": [
    "# Testing SNN Model"
   ],
   "metadata": {
    "collapsed": false
   }
  },
  {
   "cell_type": "code",
   "execution_count": null,
   "outputs": [],
   "source": [
    "test_individ = torch.rand(5,5)\n",
    "history = []\n",
    "\n",
    "mnist_snn = MNIST_SNN(25, 5)\n",
    "# optimizer = STDP(mnist_snn.parameters(), mnist_snn.spikes())\n",
    "\n",
    "potentials_stack = torch.zeros(5)\n",
    "\n",
    "with torch.no_grad():\n",
    "    for j in range(0, 254):\n",
    "            Y_pred = mnist_snn.forward(test_individ.view(-1, 5*5), j)\n",
    "            history.append(Y_pred.clone())\n",
    "            # optimizer.step()\n",
    "\n",
    "            potentials_stack = torch.vstack((potentials_stack, mnist_snn.get_potentials()[1]))\n",
    "\n",
    "\n",
    "\n",
    "# Show network parameters\n",
    "# for p in MNIST_SNN.parameters(mnist_snn):\n",
    "#     if p.requires_grad:\n",
    "#         print(p.name, p.data.shape)\n",
    "#\n",
    "#         plt.figure(figsize = (14,14))\n",
    "#         plt.imshow(p.data, cmap='Greys')\n",
    "\n",
    "\n",
    "plt.figure(figsize = (14,14))\n",
    "plt.plot(potentials_stack.T[0])\n",
    "# plt.imshow(potentials_stack.T, aspect=10, cmap='Greys')\n",
    "\n",
    "pass"
   ],
   "metadata": {
    "collapsed": false
   }
  },
  {
   "cell_type": "markdown",
   "source": [
    "# Load MNIST"
   ],
   "metadata": {
    "collapsed": false
   }
  },
  {
   "cell_type": "code",
   "execution_count": null,
   "outputs": [],
   "source": [
    "dataset = torchvision.datasets.MNIST(root = 'datasets', train = True, download = True, transform=torchvision.transforms.ToTensor())"
   ],
   "metadata": {
    "collapsed": false
   }
  },
  {
   "cell_type": "markdown",
   "source": [],
   "metadata": {
    "collapsed": false
   }
  },
  {
   "cell_type": "markdown",
   "source": [
    "#### Get and visualize random individual"
   ],
   "metadata": {
    "collapsed": false
   }
  },
  {
   "cell_type": "code",
   "execution_count": null,
   "outputs": [],
   "source": [
    "rand_individ = random.randint(0, 60_000)\n",
    "img = dataset[rand_individ][0].view((28, 28))\n",
    "ans = dataset[rand_individ][1]\n",
    "plt.imshow(img, cmap='plasma')\n",
    "plt.xlabel(f\"NUMBER: {ans}\")\n",
    "pass"
   ],
   "metadata": {
    "collapsed": false
   }
  },
  {
   "cell_type": "markdown",
   "source": [
    "# Prepare and split data into train/test"
   ],
   "metadata": {
    "collapsed": false
   }
  },
  {
   "cell_type": "code",
   "execution_count": null,
   "outputs": [],
   "source": [
    "split_ratio = 0.00005\n",
    "batch_size = 1\n",
    "train_size = round(len(dataset) * split_ratio)\n",
    "valid_size = len(dataset) - train_size\n",
    "\n",
    "# print(dataset.shape)\n",
    "print(dataset)\n",
    "\n",
    "train, valid = torch.utils.data.random_split(dataset, [train_size, valid_size])\n",
    "\n",
    "train_batch_loader = torch.utils.data.DataLoader2(train, batch_size=batch_size, collate_fn=lambda x: tuple(x_.to(device) for x_ in torch.utils.data.dataloader.default_collate(x)))\n",
    "valid_batch_loader = torch.utils.data.DataLoader2(valid, batch_size=batch_size, collate_fn=lambda x: tuple(x_.to(device) for x_ in torch.utils.data.dataloader.default_collate(x)))"
   ],
   "metadata": {
    "collapsed": false
   }
  },
  {
   "cell_type": "markdown",
   "source": [
    "# Configure NN Model and hyper-parameters"
   ],
   "metadata": {
    "collapsed": false
   }
  },
  {
   "cell_type": "code",
   "execution_count": null,
   "outputs": [],
   "source": [
    "mnist_snn = MNIST_SNN(28*28, 10)\n",
    "optimizer = STDP(mnist_snn.parameters(), mnist_snn.spike_history(), lr=0.002)\n",
    "epochs = 1"
   ],
   "metadata": {
    "collapsed": false
   }
  },
  {
   "cell_type": "markdown",
   "source": [
    "# Train loop"
   ],
   "metadata": {
    "collapsed": false
   }
  },
  {
   "cell_type": "code",
   "execution_count": null,
   "outputs": [],
   "source": [
    "history = []\n",
    "images = []\n",
    "\n",
    "for name, param in mnist_snn.named_parameters():\n",
    "    if param.requires_grad:\n",
    "        # print (name, param.data.shape)\n",
    "        plt.imshow(param.data[0].reshape((28, 28)), cmap='plasma')\n",
    "        break\n",
    "\n",
    "def train_mnist_SNN():\n",
    "    with torch.no_grad():\n",
    "        for epoch in range(0, epochs):\n",
    "            for i, (features, ans) in enumerate(tqdm(train_batch_loader)):\n",
    "                images.append(features)\n",
    "                for j in range(0, 350):\n",
    "                        Y_pred = mnist_snn.forward(features.view(-1, 28*28), j)\n",
    "                        history.append(Y_pred.clone())\n",
    "                        optimizer.step()\n",
    "\n",
    "\n",
    "\n",
    "train_mnist_SNN()"
   ],
   "metadata": {
    "collapsed": false
   }
  },
  {
   "cell_type": "code",
   "execution_count": null,
   "outputs": [],
   "source": [
    "\n",
    "\n",
    "for name, param in mnist_snn.named_parameters():\n",
    "    if param.requires_grad:\n",
    "        if name == \"encoder.weight\":\n",
    "            print (name, param.data.shape)\n",
    "\n",
    "            fig = plt.figure()\n",
    "            for i, img in enumerate(param.data):\n",
    "                ax = fig.add_subplot(2, param.data.shape[0] // 2 + 1, i + 1)\n",
    "                imgplot = plt.imshow(img.reshape((28, 28)), cmap='plasma')\n",
    "\n",
    "            break\n",
    "\n",
    "\n",
    "\n",
    "plt.imshow(images[0][0].view((28, 28)))"
   ],
   "metadata": {
    "collapsed": false
   }
  },
  {
   "cell_type": "markdown",
   "source": [
    "# Validation"
   ],
   "metadata": {
    "collapsed": false
   }
  },
  {
   "cell_type": "code",
   "execution_count": null,
   "outputs": [],
   "source": [
    "with torch.no_grad():\n",
    "    answers = torch.zeros(10).to(device)\n",
    "    predictions = torch.zeros(10).to(device)\n",
    "\n",
    "    for i, (features, ans) in enumerate(tqdm(valid_batch_loader)):\n",
    "        predictions = torch.vstack((predictions, nn.functional.normalize(mnist_nn(features.view(-1, 28*28)))))\n",
    "\n",
    "        # Convert to one-hot encoded\n",
    "        ans = nn.functional.one_hot(ans, num_classes=10)\n",
    "\n",
    "        answers = torch.vstack((answers, ans))\n",
    "\n",
    "    print(f\"MSE: {mse(predictions.T.cpu(), answers.T.cpu())}\")\n"
   ],
   "metadata": {
    "collapsed": false
   }
  },
  {
   "cell_type": "markdown",
   "source": [
    "# Visualisation test"
   ],
   "metadata": {
    "collapsed": false
   }
  },
  {
   "cell_type": "code",
   "execution_count": null,
   "outputs": [],
   "source": [
    "rand_individ = random.randint(0, 60_000)\n",
    "img = dataset[rand_individ][0].view((28, 28))\n",
    "ans = dataset[rand_individ][1]\n",
    "\n",
    "\n",
    "with torch.no_grad():\n",
    "    pred = mnist_nn(img.to(device).view(-1)).argmax()\n",
    "\n",
    "plt.imshow(img, cmap='Greys')\n",
    "plt.xlabel(f\"PREDICTION: {pred}, ANSWER {ans}\")\n",
    "pass "
   ],
   "metadata": {
    "collapsed": false
   }
  },
  {
   "cell_type": "markdown",
   "source": [
    "# Configure CNN Model and hyper-parameters"
   ],
   "metadata": {
    "collapsed": false
   }
  },
  {
   "cell_type": "code",
   "execution_count": null,
   "outputs": [],
   "source": [
    "mnist_cnn = MNIST_CNN().to(device)\n",
    "\n",
    "epochs = 2\n",
    "loss_func = nn.CrossEntropyLoss()\n",
    "optimizer = torch.optim.Adam(mnist_cnn.parameters(), lr=0.01)\n",
    "\n",
    "history = []\n",
    "summary(mnist_cnn, (1, 28, 28), batch_size=batch_size)"
   ],
   "metadata": {
    "collapsed": false
   }
  },
  {
   "cell_type": "markdown",
   "source": [
    "# Train loop"
   ],
   "metadata": {
    "collapsed": false
   }
  },
  {
   "cell_type": "code",
   "execution_count": null,
   "outputs": [],
   "source": [
    "for epoch in range(0, epochs):\n",
    "    for i, (features, ans) in enumerate(tqdm(train_batch_loader)):\n",
    "        # Forward pass\n",
    "        Y_pred = mnist_cnn.forward(features.view(-1, 1, 28, 28))\n",
    "        # print(Y_pred.shape)\n",
    "\n",
    "        loss = loss_func(Y_pred, ans)\n",
    "\n",
    "        # Backward pass\n",
    "        loss.backward()\n",
    "        optimizer.step()\n",
    "        optimizer.zero_grad()\n",
    "\n",
    "        if i % 3 == 0: history.append(loss.data)"
   ],
   "metadata": {
    "collapsed": false
   }
  },
  {
   "cell_type": "code",
   "execution_count": null,
   "outputs": [],
   "source": [
    "plt.plot(list(map(lambda x: x.cpu(), history)))\n",
    "print(f\"Mean CrossEntropyLoss (last 100): {sum(history[-100:]) / 100}\")"
   ],
   "metadata": {
    "collapsed": false
   }
  },
  {
   "cell_type": "markdown",
   "source": [
    "# Validation"
   ],
   "metadata": {
    "collapsed": false
   }
  },
  {
   "cell_type": "code",
   "execution_count": null,
   "outputs": [],
   "source": [
    "with torch.no_grad():\n",
    "    answers = torch.zeros(10).to(device)\n",
    "    predictions = torch.zeros(10).to(device)\n",
    "\n",
    "    for i, (features, ans) in enumerate(tqdm(valid_batch_loader)):\n",
    "        predictions = torch.vstack((predictions, nn.functional.normalize(mnist_cnn(features.view(-1, 1, 28, 28)))))\n",
    "\n",
    "        # Convert to one-hot encoded\n",
    "        ans = nn.functional.one_hot(ans, num_classes=10)\n",
    "\n",
    "        answers = torch.vstack((answers, ans))\n",
    "\n",
    "    print(f\"MSE: {mse(predictions.T.cpu(), answers.T.cpu())}\")"
   ],
   "metadata": {
    "collapsed": false
   }
  }
 ],
 "metadata": {
  "kernelspec": {
   "display_name": "Python 3",
   "language": "python",
   "name": "python3"
  },
  "language_info": {
   "codemirror_mode": {
    "name": "ipython",
    "version": 2
   },
   "file_extension": ".py",
   "mimetype": "text/x-python",
   "name": "python",
   "nbconvert_exporter": "python",
   "pygments_lexer": "ipython2",
   "version": "2.7.6"
  }
 },
 "nbformat": 4,
 "nbformat_minor": 0
}
